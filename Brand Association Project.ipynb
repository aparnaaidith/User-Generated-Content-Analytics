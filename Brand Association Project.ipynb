{
 "cells": [
  {
   "cell_type": "markdown",
   "metadata": {},
   "source": [
    "# TASK A & B"
   ]
  },
  {
   "cell_type": "code",
   "execution_count": 1,
   "metadata": {},
   "outputs": [],
   "source": [
    "# Import webdriver from selenium\n",
    "from selenium import webdriver\n",
    "chrome_path = r'/Users/abraham.george.j/Desktop/UT/Courses/UGCA/chromedriver'\n",
    "# prepend it with r because of the backslash characters"
   ]
  },
  {
   "cell_type": "code",
   "execution_count": 2,
   "metadata": {},
   "outputs": [],
   "source": [
    "driver = webdriver.Chrome(chrome_path)  # This will open up a chrome window"
   ]
  },
  {
   "cell_type": "code",
   "execution_count": 3,
   "metadata": {},
   "outputs": [],
   "source": [
    "# Take a website that you want to scrape\n",
    "driver.get(\"https://forums.edmunds.com/discussion/18576/general/x/edmunds-members-cars-conversations/p2563\")  # It will send you to that website"
   ]
  },
  {
   "cell_type": "code",
   "execution_count": 4,
   "metadata": {},
   "outputs": [],
   "source": [
    "all_url = []\n",
    "for i in range(151):\n",
    "    page = 2563 - i\n",
    "    all_url.append(\"https://forums.edmunds.com/discussion/18576/general/x/edmunds-members-cars-conversations/p\" + str(page))"
   ]
  },
  {
   "cell_type": "code",
   "execution_count": 5,
   "metadata": {},
   "outputs": [],
   "source": [
    "import csv\n",
    "\n",
    "#driver = webdriver.Chrome(chrome_path)  # This will open up a chrome window\n",
    "\n",
    "# Take a website that you want to scrape\n",
    "#driver.get(\"https://forums.edmunds.com/discussion/18576/general/x/edmunds-members-cars-conversations/p2563\")  # It will send you to that website\n",
    "\n",
    "\n",
    "with open('results.csv', 'w') as f:\n",
    "     f.write(\"Username , Date, UserContent \\n\")\n",
    "\n",
    "index = 0\n",
    "list_len = []\n",
    "while (index <= 150):\n",
    "    url = all_url[index]\n",
    "    driver.get(url)\n",
    "    username = driver.find_elements_by_class_name(\"Username\")\n",
    "    date = driver.find_elements_by_tag_name(\"time\")\n",
    "    usercontent = driver.execute_script('''\n",
    "                    text=[]\n",
    "                    var userContents = document.getElementsByClassName(\"userContent\");\n",
    "                    if (userContents){\n",
    "                        for(var i=0; i<userContents.length;i++){\n",
    "                            userContent = userContents[i]\n",
    "                            childNodes = userContent.childNodes\n",
    "                            for (var j =0; j<childNodes.length; j++){\n",
    "                                if(childNodes[j].nodeType == '3'){\n",
    "                                    if(text[i] == undefined){\n",
    "                                        if(!childNodes[j].parentNode.className.includes('Signature')){\n",
    "                                            text[i] = childNodes[j].textContent.trim()\n",
    "                                        }\n",
    "\n",
    "                                    }\n",
    "                                    else{\n",
    "                                        if(!childNodes[j].parentNode.className.includes('Signature')){\n",
    "                                            text[i] += childNodes[j].textContent.trim()\n",
    "                                        }\n",
    "\n",
    "                                    }\n",
    "                                }\n",
    "                            }\n",
    "\n",
    "                        }\n",
    "\n",
    "                    }\n",
    "                    text = text.filter(Boolean)\n",
    "                    return text''')\n",
    "    \n",
    "#     num_page_items = len(username)\n",
    "#     num_page_contents = len(usercontent)\n",
    "#     print((num_page_items, num_page_contents, index))\n",
    "    \n",
    "    \n",
    "#     usercontent = driver.find_elements_by_class_name(\"userContent\")\n",
    "#     userquote = driver.find_elements_by_class_name(\"UserQuote\")\n",
    "        \n",
    "\n",
    "#     len_user = len(userquote)\n",
    "#     len_name = len(username)\n",
    "#     len_date = len(date)\n",
    "#     list_len.append(len_user)\n",
    "#     list_len.append(len_name)\n",
    "#     list_len.append(len_date)\n",
    "    \n",
    "    num_page_items = len(usercontent)\n",
    "    with open('results.csv', 'a') as f:\n",
    "        for i in range(num_page_items):\n",
    "            f.write(username[i].text + \",\" + date[i].get_attribute(\"datetime\")+\",\"+usercontent[i].replace('\\n',\" \").replace(',',\" \")+ \"\\n\")\n",
    "# #             f.write((userquote[i].text).strip() + \"\\n\")\n",
    "    index += 1\n",
    "driver.quit()"
   ]
  },
  {
   "cell_type": "code",
   "execution_count": 6,
   "metadata": {},
   "outputs": [],
   "source": [
    "# Read the data from the results.csv and the models data\n",
    "import pandas as pd\n",
    "results = pd.read_csv(\"results.csv\" )\n",
    "models = pd.read_csv(\"models.csv\", encoding = \"ISO-8859-1\", names = [\"Brand\", \"Model\"])"
   ]
  },
  {
   "cell_type": "code",
   "execution_count": 7,
   "metadata": {},
   "outputs": [],
   "source": [
    "comment_data = results.iloc[:,-1]"
   ]
  },
  {
   "cell_type": "code",
   "execution_count": 8,
   "metadata": {},
   "outputs": [],
   "source": [
    "import re\n",
    "model_brand_dict = {}\n",
    "for i in range(len(models)):\n",
    "    model_brand_dict[(re.sub('[^a-zA-Z\\s0-9]+', ' ', str(models.Model[i]))).replace(u'\\xa0', u' ').lower()] = models.Brand[i].lower()"
   ]
  },
  {
   "cell_type": "code",
   "execution_count": 9,
   "metadata": {},
   "outputs": [],
   "source": [
    "cleaned_comment_data = []\n",
    "for comment in comment_data:\n",
    "    words = comment.split()\n",
    "    for word in words:\n",
    "        if word in model_brand_dict.keys():\n",
    "            word = model_brand_dict[word]\n",
    "    cleaned_comment_data.append(' '.join(words))"
   ]
  },
  {
   "cell_type": "markdown",
   "metadata": {},
   "source": [
    "# Cleaning data"
   ]
  },
  {
   "cell_type": "code",
   "execution_count": 10,
   "metadata": {},
   "outputs": [],
   "source": [
    "new_comment_string = \"\"\n",
    "for x in range(len(cleaned_comment_data)):\n",
    "    new_comment_string += cleaned_comment_data[x]\n",
    "\n"
   ]
  },
  {
   "cell_type": "code",
   "execution_count": 11,
   "metadata": {},
   "outputs": [],
   "source": [
    "# Clean the data\n",
    "import re\n",
    "\n",
    "text_clean_step_0_result = re.sub('[^a-zA-Z-]+', ' ', str(new_comment_string))\n",
    "text_clean_step_1_result = re.sub(\"\\s*-\\s*\\n\", \"\", str(text_clean_step_0_result))\n",
    "cleaned_text = text_clean_step_1_result"
   ]
  },
  {
   "cell_type": "code",
   "execution_count": 13,
   "metadata": {},
   "outputs": [],
   "source": [
    "# lowercase the data\n",
    "cleaned_text = cleaned_text.lower()\n"
   ]
  },
  {
   "cell_type": "code",
   "execution_count": 14,
   "metadata": {},
   "outputs": [],
   "source": [
    "from nltk.corpus import stopwords \n",
    "from nltk.tokenize import word_tokenize \n",
    "tokens = word_tokenize(cleaned_text)\n"
   ]
  },
  {
   "cell_type": "code",
   "execution_count": 15,
   "metadata": {},
   "outputs": [],
   "source": [
    "import enchant\n",
    "punctuations = ['(',')',';',':','[',']',',', '.', '&', '\\n', '=', '∈']\n",
    "stop_words = stopwords.words('english')\n",
    "englishDictionary = enchant.Dict(\"en_US\")\n",
    "keywords = [word for word in tokens if not word in stop_words and not word in punctuations]"
   ]
  },
  {
   "cell_type": "code",
   "execution_count": 16,
   "metadata": {},
   "outputs": [],
   "source": [
    "# Concatening words which got hyphenated as it reached EOL\n",
    "# This will help improve the corpus of meaningful words\n",
    "for i in range(len(keywords)):\n",
    "    \n",
    "    if(i < len(keywords)):\n",
    "        if(keywords[i][-1] == '-'):\n",
    "            keywords[i] = keywords[i][:-1] + keywords[i]\n",
    "            del(keywords[i+1])"
   ]
  },
  {
   "cell_type": "code",
   "execution_count": 17,
   "metadata": {},
   "outputs": [],
   "source": [
    "# Filtering some unwanted data which is present with '-' at the end.\n",
    "\n",
    "for i in range(len(keywords)):\n",
    "    if(i < len(keywords)):\n",
    "        if(keywords[i][-1] == '-'):\n",
    "            del(keywords[i])"
   ]
  },
  {
   "cell_type": "code",
   "execution_count": 18,
   "metadata": {},
   "outputs": [],
   "source": [
    "# Since we don't have the model data yet cleaned and ready, lets get the unique values of the brands\n",
    "# and you can try working with lift values through that\n",
    "unique_brands = models['Brand'].unique().tolist()\n",
    "#clean some of the data in brands column\n",
    "unique_brands.remove('car')\n",
    "unique_brands.remove('seat')\n",
    "unique_brands.remove('problem')\n",
    "unique_brands.remove('sedan')\n",
    "unique_brands\n",
    "\n",
    "\n",
    "import re\n",
    "unique_brand_list = []\n",
    "for brand in unique_brands:\n",
    "    unique_brand_list.append((re.sub('[^a-zA-Z]+', ' ', str(brand))).lower().strip())\n",
    "unique_brand_list = list(set(unique_brand_list))\n",
    "    #model_brand_dict[(re.sub('[^a-zA-Z\\s0-9]+', ' ', str(models.Model[i]))).replace(u'\\xa0', u' ').lower()] = models.Brand[i].lower()"
   ]
  },
  {
   "cell_type": "code",
   "execution_count": 20,
   "metadata": {},
   "outputs": [],
   "source": [
    "# Right now the dictionary list counts all relevant words that havenot been cleaned yet\n",
    "from operator import itemgetter \n",
    "counts = dict()\n",
    "englishDictionary = enchant.Dict(\"en_US\")\n",
    "\n",
    "# Aim is to create a dict of dicts\n",
    "# The key of the outer dict will be each post.\n",
    "# The value of each key of the outer dict will be a dict.\n",
    "# The inner dict will contain a list of values of all unique brands which appear in that list\n",
    "\n",
    "dict_posts = {}\n",
    "dict_brands = {}\n",
    "counter = 0 \n",
    "# Fetching each post from posts\n",
    "for i in cleaned_comment_data:\n",
    "    counter += 1\n",
    "    # Creating a dictionary for each post to store the unique brands mentioned in the post\n",
    "    brands = {}\n",
    "    for j in unique_brand_list:\n",
    "        if len(j) > 1 and j in i.lower():\n",
    "            if j in counts:\n",
    "                counts[j] += 1\n",
    "                continue\n",
    "            else:\n",
    "                counts[j] =1\n",
    "sortedWordsList = sorted(counts.items(), key = itemgetter(1), reverse = True)\n"
   ]
  },
  {
   "cell_type": "code",
   "execution_count": 23,
   "metadata": {},
   "outputs": [
    {
     "data": {
      "text/plain": [
       "[('ford', 128),\n",
       " ('bmw', 59),\n",
       " ('toyota', 50),\n",
       " ('nissan', 49),\n",
       " ('audi', 48),\n",
       " ('kia', 42),\n",
       " ('cadillac', 42),\n",
       " ('honda', 35),\n",
       " ('mercedes', 32),\n",
       " ('chrysler', 28)]"
      ]
     },
     "execution_count": 23,
     "metadata": {},
     "output_type": "execute_result"
    }
   ],
   "source": [
    "top_10_brand_frequency_list = sortedWordsList[:10]\n",
    "top_10_brand_frequency_list"
   ]
  },
  {
   "cell_type": "code",
   "execution_count": 24,
   "metadata": {},
   "outputs": [
    {
     "data": {
      "text/plain": [
       "['ford',\n",
       " 'bmw',\n",
       " 'toyota',\n",
       " 'nissan',\n",
       " 'audi',\n",
       " 'kia',\n",
       " 'cadillac',\n",
       " 'honda',\n",
       " 'mercedes',\n",
       " 'chrysler']"
      ]
     },
     "execution_count": 24,
     "metadata": {},
     "output_type": "execute_result"
    }
   ],
   "source": [
    "# get the brands for the combination prep\n",
    "top_10_brand_names_only = []\n",
    "for i in top_10_brand_frequency_list:\n",
    "    top_10_brand_names_only.append(i[0])\n",
    "top_10_brand_names_only"
   ]
  },
  {
   "cell_type": "code",
   "execution_count": 28,
   "metadata": {},
   "outputs": [],
   "source": [
    "# create combinations of each pair of brands\n",
    "import itertools\n",
    "combination_brand = list(itertools.combinations(top_10_brand_names_only, 2))"
   ]
  },
  {
   "cell_type": "code",
   "execution_count": 30,
   "metadata": {},
   "outputs": [],
   "source": [
    "# Run the frequency search\n",
    "combination_frequency = dict()\n",
    "count = 0\n",
    "for i in cleaned_comment_data:\n",
    "    count+=1\n",
    "    for j in combination_brand:\n",
    "        if j[0] in i.lower() and j[1] in i.lower():\n",
    "            if j in combination_frequency:\n",
    "                combination_frequency[j] += 1\n",
    "            else:\n",
    "                combination_frequency[j] = 1\n"
   ]
  },
  {
   "cell_type": "code",
   "execution_count": 34,
   "metadata": {},
   "outputs": [],
   "source": [
    "final_combination = {}\n",
    "for brand_combination in combination_brand:\n",
    "    if(brand_combination in combination_frequency.keys()):\n",
    "        final_combination[brand_combination] = combination_frequency[brand_combination]\n",
    "    else:\n",
    "        final_combination[brand_combination] = 0\n"
   ]
  },
  {
   "cell_type": "code",
   "execution_count": 35,
   "metadata": {},
   "outputs": [
    {
     "data": {
      "text/plain": [
       "[(('toyota', 'honda'), 15),\n",
       " (('bmw', 'mercedes'), 14),\n",
       " (('ford', 'kia'), 12),\n",
       " (('bmw', 'audi'), 12),\n",
       " (('nissan', 'kia'), 12),\n",
       " (('ford', 'nissan'), 10),\n",
       " (('ford', 'chrysler'), 8),\n",
       " (('audi', 'mercedes'), 8),\n",
       " (('ford', 'honda'), 7),\n",
       " (('ford', 'toyota'), 6),\n",
       " (('bmw', 'cadillac'), 6),\n",
       " (('cadillac', 'mercedes'), 6),\n",
       " (('ford', 'bmw'), 5),\n",
       " (('nissan', 'honda'), 5),\n",
       " (('audi', 'cadillac'), 5),\n",
       " (('bmw', 'honda'), 4),\n",
       " (('toyota', 'nissan'), 4),\n",
       " (('toyota', 'mercedes'), 4),\n",
       " (('kia', 'honda'), 4),\n",
       " (('ford', 'cadillac'), 3),\n",
       " (('ford', 'mercedes'), 3),\n",
       " (('bmw', 'toyota'), 3),\n",
       " (('toyota', 'kia'), 3),\n",
       " (('toyota', 'chrysler'), 3),\n",
       " (('nissan', 'audi'), 3),\n",
       " (('kia', 'chrysler'), 3),\n",
       " (('honda', 'mercedes'), 3),\n",
       " (('ford', 'audi'), 2),\n",
       " (('bmw', 'nissan'), 2),\n",
       " (('bmw', 'chrysler'), 2),\n",
       " (('toyota', 'audi'), 2),\n",
       " (('toyota', 'cadillac'), 2),\n",
       " (('nissan', 'mercedes'), 2),\n",
       " (('nissan', 'chrysler'), 2),\n",
       " (('audi', 'kia'), 2),\n",
       " (('audi', 'honda'), 2),\n",
       " (('cadillac', 'honda'), 2),\n",
       " (('honda', 'chrysler'), 2),\n",
       " (('bmw', 'kia'), 1),\n",
       " (('nissan', 'cadillac'), 1),\n",
       " (('audi', 'chrysler'), 1),\n",
       " (('kia', 'cadillac'), 1),\n",
       " (('cadillac', 'chrysler'), 1),\n",
       " (('mercedes', 'chrysler'), 1),\n",
       " (('kia', 'mercedes'), 0)]"
      ]
     },
     "execution_count": 35,
     "metadata": {},
     "output_type": "execute_result"
    }
   ],
   "source": [
    "# sort the list\n",
    "sortedLiftList = sorted(final_combination.items(), key = itemgetter(1), reverse = True)\n",
    "sortedLiftList"
   ]
  },
  {
   "cell_type": "code",
   "execution_count": 36,
   "metadata": {},
   "outputs": [],
   "source": [
    "# sum is the total number of posts\n",
    "sum = 4456"
   ]
  },
  {
   "cell_type": "code",
   "execution_count": 37,
   "metadata": {},
   "outputs": [
    {
     "name": "stdout",
     "output_type": "stream",
     "text": [
      "[('ford', 128), ('bmw', 59), ('toyota', 50), ('nissan', 49), ('audi', 48), ('kia', 42), ('cadillac', 42), ('honda', 35), ('mercedes', 32), ('chrysler', 28)]\n"
     ]
    }
   ],
   "source": [
    "l1 = sortedWordsList[:10]\n",
    "print (l1)"
   ]
  },
  {
   "cell_type": "code",
   "execution_count": 38,
   "metadata": {},
   "outputs": [],
   "source": [
    "l2 = l1"
   ]
  },
  {
   "cell_type": "code",
   "execution_count": 39,
   "metadata": {},
   "outputs": [],
   "source": [
    "l3 = []\n",
    "for i in l1:\n",
    "    for j in l2:\n",
    "        sub_l = [0,0]\n",
    "        l3.append(sub_l)\n",
    "        sub_l[0] = (i[0],j[0])\n",
    "        denom = (i[1]/sum) * (j[1]/sum)\n",
    "        sub_l[1] = denom"
   ]
  },
  {
   "cell_type": "code",
   "execution_count": 40,
   "metadata": {},
   "outputs": [],
   "source": [
    "l4 = []\n",
    "for i in l3:\n",
    "    for key, value in final_combination.items():\n",
    "        a, b = i[0][0], i[0][1]\n",
    "        pair = (b, a)\n",
    "        if i[0] == key or pair == key:\n",
    "            sub_list = [0,0]\n",
    "            l4.append(sub_list)\n",
    "            numer = value/sum\n",
    "            lift = numer/i[1]\n",
    "            sub_list[0]=i[0]\n",
    "            sub_list[1]=lift\n",
    "            \n",
    "\n"
   ]
  },
  {
   "cell_type": "code",
   "execution_count": 41,
   "metadata": {},
   "outputs": [],
   "source": [
    "k = 0\n",
    "j = 0\n",
    "final_lift_list = []\n",
    "\n",
    "\n",
    "for i in range(len(l4)+10):\n",
    "    if(i%11 == 0):\n",
    "        brand = top_10_brand_names_only[k]\n",
    "        final_lift_list.append([(brand, brand), 1])\n",
    "        k += 1\n",
    "    else:\n",
    "        final_lift_list.append(l4[j])\n",
    "        j += 1"
   ]
  },
  {
   "cell_type": "code",
   "execution_count": 42,
   "metadata": {},
   "outputs": [
    {
     "data": {
      "text/plain": [
       "[[('ford', 'ford'), 1],\n",
       " [('ford', 'bmw'), 2.95021186440678],\n",
       " [('ford', 'toyota'), 4.1775],\n",
       " [('ford', 'nissan'), 7.104591836734693],\n",
       " [('ford', 'audi'), 1.4505208333333333],\n",
       " [('ford', 'kia'), 9.946428571428571],\n",
       " [('ford', 'cadillac'), 2.486607142857143],\n",
       " [('ford', 'honda'), 6.9625],\n",
       " [('ford', 'mercedes'), 3.2636718749999996],\n",
       " [('ford', 'chrysler'), 9.946428571428571],\n",
       " [('bmw', 'ford'), 2.95021186440678],\n",
       " [('bmw', 'bmw'), 1],\n",
       " [('bmw', 'toyota'), 4.531525423728814],\n",
       " [('bmw', 'nissan'), 3.0826703562781046],\n",
       " [('bmw', 'audi'), 18.881355932203387],\n",
       " [('bmw', 'kia'), 1.798224374495561],\n",
       " [('bmw', 'cadillac'), 10.789346246973366],\n",
       " [('bmw', 'honda'), 8.631476997578693],\n",
       " [('bmw', 'mercedes'), 33.04237288135593],\n",
       " [('bmw', 'chrysler'), 5.394673123486683],\n",
       " [('toyota', 'ford'), 4.1775],\n",
       " [('toyota', 'bmw'), 4.531525423728814],\n",
       " [('toyota', 'toyota'), 1],\n",
       " [('toyota', 'nissan'), 7.275102040816328],\n",
       " [('toyota', 'audi'), 3.713333333333333],\n",
       " [('toyota', 'kia'), 6.365714285714286],\n",
       " [('toyota', 'cadillac'), 4.243809523809524],\n",
       " [('toyota', 'honda'), 38.19428571428571],\n",
       " [('toyota', 'mercedes'), 11.139999999999999],\n",
       " [('toyota', 'chrysler'), 9.54857142857143],\n",
       " [('nissan', 'ford'), 7.104591836734693],\n",
       " [('nissan', 'bmw'), 3.0826703562781046],\n",
       " [('nissan', 'toyota'), 7.275102040816328],\n",
       " [('nissan', 'nissan'), 1],\n",
       " [('nissan', 'audi'), 5.683673469387755],\n",
       " [('nissan', 'kia'), 25.98250728862974],\n",
       " [('nissan', 'cadillac'), 2.165208940719145],\n",
       " [('nissan', 'honda'), 12.99125364431487],\n",
       " [('nissan', 'mercedes'), 5.683673469387754],\n",
       " [('nissan', 'chrysler'), 6.495626822157434],\n",
       " [('audi', 'ford'), 1.4505208333333333],\n",
       " [('audi', 'bmw'), 18.881355932203387],\n",
       " [('audi', 'toyota'), 3.713333333333333],\n",
       " [('audi', 'nissan'), 5.683673469387755],\n",
       " [('audi', 'audi'), 1],\n",
       " [('audi', 'kia'), 4.420634920634921],\n",
       " [('audi', 'cadillac'), 11.051587301587302],\n",
       " [('audi', 'honda'), 5.304761904761905],\n",
       " [('audi', 'mercedes'), 23.208333333333332],\n",
       " [('audi', 'chrysler'), 3.3154761904761907],\n",
       " [('kia', 'ford'), 9.946428571428571],\n",
       " [('kia', 'bmw'), 1.798224374495561],\n",
       " [('kia', 'toyota'), 6.365714285714286],\n",
       " [('kia', 'nissan'), 25.98250728862974],\n",
       " [('kia', 'audi'), 4.420634920634921],\n",
       " [('kia', 'kia'), 1],\n",
       " [('kia', 'cadillac'), 2.5260770975056692],\n",
       " [('kia', 'honda'), 12.125170068027213],\n",
       " [('kia', 'mercedes'), 0.0],\n",
       " [('kia', 'chrysler'), 11.36734693877551],\n",
       " [('cadillac', 'ford'), 2.486607142857143],\n",
       " [('cadillac', 'bmw'), 10.789346246973366],\n",
       " [('cadillac', 'toyota'), 4.243809523809524],\n",
       " [('cadillac', 'nissan'), 2.165208940719145],\n",
       " [('cadillac', 'audi'), 11.051587301587302],\n",
       " [('cadillac', 'kia'), 2.5260770975056692],\n",
       " [('cadillac', 'cadillac'), 1],\n",
       " [('cadillac', 'honda'), 6.0625850340136065],\n",
       " [('cadillac', 'mercedes'), 19.892857142857142],\n",
       " [('cadillac', 'chrysler'), 3.7891156462585034],\n",
       " [('honda', 'ford'), 6.9625],\n",
       " [('honda', 'bmw'), 8.631476997578693],\n",
       " [('honda', 'toyota'), 38.19428571428571],\n",
       " [('honda', 'nissan'), 12.99125364431487],\n",
       " [('honda', 'audi'), 5.304761904761905],\n",
       " [('honda', 'kia'), 12.125170068027213],\n",
       " [('honda', 'cadillac'), 6.0625850340136065],\n",
       " [('honda', 'honda'), 1],\n",
       " [('honda', 'mercedes'), 11.935714285714287],\n",
       " [('honda', 'chrysler'), 9.093877551020409],\n",
       " [('mercedes', 'ford'), 3.2636718749999996],\n",
       " [('mercedes', 'bmw'), 33.04237288135593],\n",
       " [('mercedes', 'toyota'), 11.139999999999999],\n",
       " [('mercedes', 'nissan'), 5.683673469387754],\n",
       " [('mercedes', 'audi'), 23.208333333333332],\n",
       " [('mercedes', 'kia'), 0.0],\n",
       " [('mercedes', 'cadillac'), 19.892857142857142],\n",
       " [('mercedes', 'honda'), 11.935714285714287],\n",
       " [('mercedes', 'mercedes'), 1],\n",
       " [('mercedes', 'chrysler'), 4.973214285714286],\n",
       " [('chrysler', 'ford'), 9.946428571428571],\n",
       " [('chrysler', 'bmw'), 5.394673123486683],\n",
       " [('chrysler', 'toyota'), 9.54857142857143],\n",
       " [('chrysler', 'nissan'), 6.495626822157434],\n",
       " [('chrysler', 'audi'), 3.3154761904761907],\n",
       " [('chrysler', 'kia'), 11.36734693877551],\n",
       " [('chrysler', 'cadillac'), 3.7891156462585034],\n",
       " [('chrysler', 'honda'), 9.093877551020409],\n",
       " [('chrysler', 'mercedes'), 4.973214285714286],\n",
       " [('chrysler', 'chrysler'), 1]]"
      ]
     },
     "execution_count": 42,
     "metadata": {},
     "output_type": "execute_result"
    }
   ],
   "source": [
    "final_lift_list"
   ]
  },
  {
   "cell_type": "code",
   "execution_count": 43,
   "metadata": {},
   "outputs": [],
   "source": [
    "l5 = []\n",
    "for i in final_lift_list:\n",
    "    value = i[1]\n",
    "    l5.append(value)"
   ]
  },
  {
   "cell_type": "code",
   "execution_count": 47,
   "metadata": {},
   "outputs": [],
   "source": [
    "# to print in matrix form where. the upper triangle is printed.\n",
    "mat = [[ 0 for x in range(10)] for y in range(10)]\n",
    "index = 0\n",
    "for i in range(10):\n",
    "    for n in range(10):\n",
    "            mat[i][n] = l5[index]\n",
    "            index = index +1\n",
    "\n",
    "for i in range(10):\n",
    "    for n in range(10):\n",
    "        if i > n:\n",
    "            mat[i][n] = None\n"
   ]
  },
  {
   "cell_type": "code",
   "execution_count": 50,
   "metadata": {},
   "outputs": [
    {
     "name": "stdout",
     "output_type": "stream",
     "text": [
      "              ford        bmw     toyota     nissan       audi        kia  \\\n",
      "ford      1.000000   2.950212   4.177500   7.104592   1.450521   9.946429   \n",
      "bmw       2.950212   1.000000   4.531525   3.082670  18.881356   1.798224   \n",
      "toyota    4.177500   4.531525   1.000000   7.275102   3.713333   6.365714   \n",
      "nissan    7.104592   3.082670   7.275102   1.000000   5.683673  25.982507   \n",
      "audi      1.450521  18.881356   3.713333   5.683673   1.000000   4.420635   \n",
      "kia       9.946429   1.798224   6.365714  25.982507   4.420635   1.000000   \n",
      "cadillac  2.486607  10.789346   4.243810   2.165209  11.051587   2.526077   \n",
      "honda     6.962500   8.631477  38.194286  12.991254   5.304762  12.125170   \n",
      "mercedes  3.263672  33.042373  11.140000   5.683673  23.208333   0.000000   \n",
      "chrysler  9.946429   5.394673   9.548571   6.495627   3.315476  11.367347   \n",
      "\n",
      "           cadillac      honda   mercedes   chrysler  \n",
      "ford       2.486607   6.962500   3.263672   9.946429  \n",
      "bmw       10.789346   8.631477  33.042373   5.394673  \n",
      "toyota     4.243810  38.194286  11.140000   9.548571  \n",
      "nissan     2.165209  12.991254   5.683673   6.495627  \n",
      "audi      11.051587   5.304762  23.208333   3.315476  \n",
      "kia        2.526077  12.125170   0.000000  11.367347  \n",
      "cadillac   1.000000   6.062585  19.892857   3.789116  \n",
      "honda      6.062585   1.000000  11.935714   9.093878  \n",
      "mercedes  19.892857  11.935714   1.000000   4.973214  \n",
      "chrysler   3.789116   9.093878   4.973214   1.000000  \n"
     ]
    }
   ],
   "source": [
    "import pandas as pd\n",
    "df_lift = pd.DataFrame(mat)\n",
    "\n",
    "df_lift.columns = ['ford', 'bmw','toyota','nissan','audi','kia','cadillac','honda','mercedes','chrysler']\n",
    "df_lift.index = ['ford', 'bmw','toyota','nissan','audi','kia','cadillac','honda','mercedes','chrysler']\n",
    "\n",
    "print (df_lift)"
   ]
  },
  {
   "cell_type": "code",
   "execution_count": 51,
   "metadata": {},
   "outputs": [],
   "source": [
    "l6 = []\n",
    "for i in l5:\n",
    "    if i != 0:\n",
    "        l6.append(1/i)\n",
    "    else:\n",
    "        l6.append(i)"
   ]
  },
  {
   "cell_type": "code",
   "execution_count": 52,
   "metadata": {},
   "outputs": [],
   "source": [
    "mat_l6 = [[ 0 for x in range(10)] for y in range(10)]\n",
    "\n",
    "index = 0\n",
    "for i in range(10):\n",
    "    for n in range(10):\n",
    "            mat_l6[i][n] = l6[index]\n",
    "            index = index +1"
   ]
  },
  {
   "cell_type": "code",
   "execution_count": 54,
   "metadata": {},
   "outputs": [
    {
     "name": "stdout",
     "output_type": "stream",
     "text": [
      "              ford       bmw    toyota    nissan      audi       kia  \\\n",
      "ford      1.000000  0.338959  0.239378  0.140754  0.689408  0.100539   \n",
      "bmw       0.338959  1.000000  0.220676  0.324394  0.052962  0.556104   \n",
      "toyota    0.239378  0.220676  1.000000  0.137455  0.269300  0.157092   \n",
      "nissan    0.140754  0.324394  0.137455  1.000000  0.175943  0.038487   \n",
      "audi      0.689408  0.052962  0.269300  0.175943  1.000000  0.226212   \n",
      "kia       0.100539  0.556104  0.157092  0.038487  0.226212  1.000000   \n",
      "cadillac  0.402154  0.092684  0.235637  0.461849  0.090485  0.395871   \n",
      "honda     0.143627  0.115855  0.026182  0.076975  0.188510  0.082473   \n",
      "mercedes  0.306403  0.030264  0.089767  0.175943  0.043088  0.000000   \n",
      "chrysler  0.100539  0.185368  0.104728  0.153950  0.301616  0.087971   \n",
      "\n",
      "          cadillac     honda  mercedes  chrysler  \n",
      "ford      0.402154  0.143627  0.306403  0.100539  \n",
      "bmw       0.092684  0.115855  0.030264  0.185368  \n",
      "toyota    0.235637  0.026182  0.089767  0.104728  \n",
      "nissan    0.461849  0.076975  0.175943  0.153950  \n",
      "audi      0.090485  0.188510  0.043088  0.301616  \n",
      "kia       0.395871  0.082473  0.000000  0.087971  \n",
      "cadillac  1.000000  0.164946  0.050269  0.263914  \n",
      "honda     0.164946  1.000000  0.083782  0.109964  \n",
      "mercedes  0.050269  0.083782  1.000000  0.201077  \n",
      "chrysler  0.263914  0.109964  0.201077  1.000000  \n"
     ]
    }
   ],
   "source": [
    "df_lift_mds = pd.DataFrame(mat_l6)\n",
    "\n",
    "df_lift_mds.columns = ['ford', 'bmw','toyota','nissan','audi','kia','cadillac','honda','mercedes','chrysler']\n",
    "df_lift_mds.index = ['ford', 'bmw','toyota','nissan','audi','kia','cadillac','honda','mercedes','chrysler']\n",
    "\n",
    "print (df_lift_mds)"
   ]
  },
  {
   "cell_type": "code",
   "execution_count": 55,
   "metadata": {},
   "outputs": [
    {
     "name": "stderr",
     "output_type": "stream",
     "text": [
      "/anaconda3/lib/python3.6/site-packages/sklearn/manifold/mds.py:411: UserWarning: The MDS API has changed. ``fit`` now constructs an dissimilarity matrix from data. To use a custom dissimilarity matrix, set ``dissimilarity='precomputed'``.\n",
      "  warnings.warn(\"The MDS API has changed. ``fit`` now constructs an\"\n"
     ]
    }
   ],
   "source": [
    "# Start creating the MDS Map\n",
    "import numpy as np\n",
    "from sklearn.manifold import MDS\n",
    "mds = MDS(n_components=2, random_state = 15)\n",
    "embed2d = mds.fit(df_lift_mds.astype(np.float32)).embedding_\n",
    "x = embed2d[:, 0]\n",
    "y = embed2d[:, 1]"
   ]
  },
  {
   "cell_type": "code",
   "execution_count": 56,
   "metadata": {},
   "outputs": [
    {
     "name": "stdout",
     "output_type": "stream",
     "text": [
      "Populating the interactive namespace from numpy and matplotlib\n"
     ]
    },
    {
     "name": "stderr",
     "output_type": "stream",
     "text": [
      "/anaconda3/lib/python3.6/site-packages/IPython/core/magics/pylab.py:160: UserWarning: pylab import has clobbered these variables: ['f', 'mat', 'sum']\n",
      "`%matplotlib` prevents importing * from pylab and numpy\n",
      "  \"\\n`%matplotlib` prevents importing * from pylab and numpy\"\n"
     ]
    },
    {
     "data": {
      "image/png": "[encoded data removed]",
      "text/plain": [
       "<Figure size 432x288 with 1 Axes>"
      ]
     },
     "metadata": {},
     "output_type": "display_data"
    }
   ],
   "source": [
    "%pylab inline\n",
    "plt.scatter(x,y)\n",
    "\n",
    "\n",
    "for i in range(len(l1)):\n",
    "    plt.annotate(l1[i][0],(x[i]+0.04,y[i]),fontsize=12)\n",
    "    \n",
    "plt.show()"
   ]
  },
  {
   "cell_type": "markdown",
   "metadata": {},
   "source": [
    "# TASK C & D"
   ]
  },
  {
   "cell_type": "code",
   "execution_count": null,
   "metadata": {},
   "outputs": [],
   "source": [
    "# getting the count of all words\n",
    "from operator import itemgetter \n",
    "counts = dict()\n",
    "englishDictionary = enchant.Dict(\"en_US\")\n",
    "\n",
    "\n",
    "counter = 0 \n",
    "# Fetching each post from posts\n",
    "for i in cleaned_comment_data:\n",
    "    counter += 1\n",
    "    \n",
    "    for j in keywords:\n",
    "        if len(j) > 1 and j in i.lower():\n",
    "            if j in counts:\n",
    "                counts[j] += 1\n",
    "                continue\n",
    "            else:\n",
    "                counts[j] =1\n",
    "word_list = sorted(counts.items(), key = itemgetter(1), reverse = True)\n",
    "\n"
   ]
  },
  {
   "cell_type": "code",
   "execution_count": 60,
   "metadata": {},
   "outputs": [
    {
     "data": {
      "text/plain": [
       "{'price': 39565, 'class': 3600, 'performance': 928, 'trans': 415, 'wd': 138}"
      ]
     },
     "execution_count": 60,
     "metadata": {},
     "output_type": "execute_result"
    }
   ],
   "source": [
    "# get count of attribute\n",
    "attribute_count = dict()\n",
    "attributes =  ['performance','wd','trans','price','class']\n",
    "for word in word_list:\n",
    "    for value in attributes:\n",
    "        if word[0] == value:\n",
    "            attribute_count.update({word[0] : word[1]})\n",
    "        else:\n",
    "            continue\n",
    "            \n",
    "attribute_count"
   ]
  },
  {
   "cell_type": "code",
   "execution_count": 61,
   "metadata": {},
   "outputs": [],
   "source": [
    "# add the synonyms of the attributes to the current count \n",
    "\n",
    "for item in word_list:\n",
    "    if(item[0]==\"engine\" or item[0]=='engines' or item[0]=='power' or item[0]=='acceleration' or item[0]=='quality'\n",
    "        or item[0]=='sport' or item[0]=='miles' or item[0]=='torque' or item[0]=='mileage'\n",
    "        or item[0]=='speed' or item[0]=='sports'  or item[0]=='weight' or item[0]=='suspension'):\n",
    "        attribute_count['performance'] += 1\n",
    "    elif(item[0]=='awd' or item[0]=='rwd' or item[0]=='fwd' or item[0]=='wheel' or item[0]=='wheels'):\n",
    "        attribute_count['wd'] += 1\n",
    "    elif(item[0]=='manual'or item[0]=='auto'or item[0]=='automatic'or item[0]=='automatics'or item[0]=='transmission'):\n",
    "        attribute_count['trans'] += 1\n",
    "    elif(item[0]=='cheap'or item[0]=='cheaper'or item[0]=='costs'or item[0]=='cost'or item[0]=='economy'or item[0]=='value' or item[0] == 'prices'):\n",
    "        attribute_count['price'] += 1\n",
    "    elif(item[0]=='luxury'or item[0]=='interior'or item[0]=='leather'or item[0]=='brand'or item[0]=='premium'\n",
    "         or item[0]=='seats'or item[0]=='looks'or item[0]=='seat'):\n",
    "        attribute_count['class'] += 1"
   ]
  },
  {
   "cell_type": "code",
   "execution_count": 62,
   "metadata": {},
   "outputs": [
    {
     "data": {
      "text/plain": [
       "{'price': 39572, 'class': 3608, 'performance': 941, 'trans': 419, 'wd': 143}"
      ]
     },
     "execution_count": 62,
     "metadata": {},
     "output_type": "execute_result"
    }
   ],
   "source": [
    "attribute_count"
   ]
  },
  {
   "cell_type": "code",
   "execution_count": 63,
   "metadata": {},
   "outputs": [
    {
     "data": {
      "text/html": [
       "<div>\n",
       "<style scoped>\n",
       "    .dataframe tbody tr th:only-of-type {\n",
       "        vertical-align: middle;\n",
       "    }\n",
       "\n",
       "    .dataframe tbody tr th {\n",
       "        vertical-align: top;\n",
       "    }\n",
       "\n",
       "    .dataframe thead th {\n",
       "        text-align: right;\n",
       "    }\n",
       "</style>\n",
       "<table border=\"1\" class=\"dataframe\">\n",
       "  <thead>\n",
       "    <tr style=\"text-align: right;\">\n",
       "      <th></th>\n",
       "      <th>attribute</th>\n",
       "      <th>freq</th>\n",
       "    </tr>\n",
       "  </thead>\n",
       "  <tbody>\n",
       "    <tr>\n",
       "      <th>0</th>\n",
       "      <td>price</td>\n",
       "      <td>39572</td>\n",
       "    </tr>\n",
       "    <tr>\n",
       "      <th>1</th>\n",
       "      <td>class</td>\n",
       "      <td>3608</td>\n",
       "    </tr>\n",
       "    <tr>\n",
       "      <th>2</th>\n",
       "      <td>performance</td>\n",
       "      <td>941</td>\n",
       "    </tr>\n",
       "    <tr>\n",
       "      <th>3</th>\n",
       "      <td>trans</td>\n",
       "      <td>419</td>\n",
       "    </tr>\n",
       "    <tr>\n",
       "      <th>4</th>\n",
       "      <td>wd</td>\n",
       "      <td>143</td>\n",
       "    </tr>\n",
       "  </tbody>\n",
       "</table>\n",
       "</div>"
      ],
      "text/plain": [
       "     attribute   freq\n",
       "0        price  39572\n",
       "1        class   3608\n",
       "2  performance    941\n",
       "3        trans    419\n",
       "4           wd    143"
      ]
     },
     "execution_count": 63,
     "metadata": {},
     "output_type": "execute_result"
    }
   ],
   "source": [
    "s = pd.Series(attribute_count, name='freq')\n",
    "s.index.name = 'attribute'\n",
    "attr=s.sort_values(ascending=False).reset_index()\n",
    "attr"
   ]
  },
  {
   "cell_type": "code",
   "execution_count": 64,
   "metadata": {},
   "outputs": [
    {
     "data": {
      "text/plain": [
       "['ford', 'bmw', 'toyota', 'nissan', 'audi']"
      ]
     },
     "execution_count": 64,
     "metadata": {},
     "output_type": "execute_result"
    }
   ],
   "source": [
    "top5_brands = sortedWordsList[:5]\n",
    "top5_brands\n",
    "\n",
    "top5_brands_name_only = []\n",
    "\n",
    "for i in top5_brands:\n",
    "    top5_brands_name_only.append(i[0])\n",
    "\n",
    "    \n",
    "top5_brands_name_only\n",
    "    "
   ]
  },
  {
   "cell_type": "code",
   "execution_count": 67,
   "metadata": {},
   "outputs": [],
   "source": [
    "req_attributes = []\n",
    "for attr in attribute_count:\n",
    "    req_attributes.append(attr)"
   ]
  },
  {
   "cell_type": "code",
   "execution_count": 80,
   "metadata": {},
   "outputs": [
    {
     "data": {
      "text/plain": [
       "[['ford', 'price'],\n",
       " ['ford', 'class'],\n",
       " ['ford', 'performance'],\n",
       " ['ford', 'trans'],\n",
       " ['ford', 'wd'],\n",
       " ['bmw', 'price'],\n",
       " ['bmw', 'class'],\n",
       " ['bmw', 'performance'],\n",
       " ['bmw', 'trans'],\n",
       " ['bmw', 'wd'],\n",
       " ['toyota', 'price'],\n",
       " ['toyota', 'class'],\n",
       " ['toyota', 'performance'],\n",
       " ['toyota', 'trans'],\n",
       " ['toyota', 'wd'],\n",
       " ['nissan', 'price'],\n",
       " ['nissan', 'class'],\n",
       " ['nissan', 'performance'],\n",
       " ['nissan', 'trans'],\n",
       " ['nissan', 'wd'],\n",
       " ['audi', 'price'],\n",
       " ['audi', 'class'],\n",
       " ['audi', 'performance'],\n",
       " ['audi', 'trans'],\n",
       " ['audi', 'wd']]"
      ]
     },
     "execution_count": 80,
     "metadata": {},
     "output_type": "execute_result"
    }
   ],
   "source": [
    "combination_attributes = []\n",
    "for i in top5_brands_name_only:\n",
    "    for j in req_attributes:\n",
    "        if i != j:\n",
    "            sub_l = [0,0]\n",
    "            combination_attributes.append(sub_l)\n",
    "            sub_l[0] = i\n",
    "            sub_l[1] = j\n",
    "\n",
    "\n",
    "for x in combination_attributes:\n",
    "    for y in combination_attributes:\n",
    "        if x[0] == y[1] and x[1] == y[0]:\n",
    "            index = combination_attributes.index(y)\n",
    "            del combination_attributes[index]\n",
    "            \n",
    "combination_attributes"
   ]
  },
  {
   "cell_type": "code",
   "execution_count": 81,
   "metadata": {},
   "outputs": [
    {
     "data": {
      "text/plain": [
       "[('ford', 'price'),\n",
       " ('ford', 'class'),\n",
       " ('ford', 'performance'),\n",
       " ('ford', 'trans'),\n",
       " ('ford', 'wd'),\n",
       " ('bmw', 'price'),\n",
       " ('bmw', 'class'),\n",
       " ('bmw', 'performance'),\n",
       " ('bmw', 'trans'),\n",
       " ('bmw', 'wd'),\n",
       " ('toyota', 'price'),\n",
       " ('toyota', 'class'),\n",
       " ('toyota', 'performance'),\n",
       " ('toyota', 'trans'),\n",
       " ('toyota', 'wd'),\n",
       " ('nissan', 'price'),\n",
       " ('nissan', 'class'),\n",
       " ('nissan', 'performance'),\n",
       " ('nissan', 'trans'),\n",
       " ('nissan', 'wd'),\n",
       " ('audi', 'price'),\n",
       " ('audi', 'class'),\n",
       " ('audi', 'performance'),\n",
       " ('audi', 'trans'),\n",
       " ('audi', 'wd')]"
      ]
     },
     "execution_count": 81,
     "metadata": {},
     "output_type": "execute_result"
    }
   ],
   "source": [
    "final_comb_attributes = []\n",
    "for i in combination_attributes:\n",
    "    t = tuple(i)\n",
    "    final_comb_attributes.append(t)\n",
    "    \n",
    "final_comb_attributes"
   ]
  },
  {
   "cell_type": "code",
   "execution_count": 82,
   "metadata": {},
   "outputs": [
    {
     "data": {
      "text/plain": [
       "{('nissan', 'price'): 12,\n",
       " ('audi', 'price'): 5,\n",
       " ('bmw', 'price'): 10,\n",
       " ('bmw', 'class'): 6,\n",
       " ('ford', 'class'): 6,\n",
       " ('toyota', 'class'): 2,\n",
       " ('nissan', 'class'): 4,\n",
       " ('audi', 'class'): 3,\n",
       " ('bmw', 'trans'): 2,\n",
       " ('ford', 'price'): 19,\n",
       " ('toyota', 'price'): 4,\n",
       " ('toyota', 'performance'): 3,\n",
       " ('toyota', 'trans'): 5,\n",
       " ('nissan', 'performance'): 1,\n",
       " ('nissan', 'trans'): 4,\n",
       " ('ford', 'performance'): 3,\n",
       " ('ford', 'trans'): 4,\n",
       " ('audi', 'trans'): 1,\n",
       " ('ford', 'wd'): 4,\n",
       " ('nissan', 'wd'): 1,\n",
       " ('bmw', 'wd'): 2,\n",
       " ('audi', 'wd'): 2,\n",
       " ('bmw', 'performance'): 2}"
      ]
     },
     "execution_count": 82,
     "metadata": {},
     "output_type": "execute_result"
    }
   ],
   "source": [
    "# Run the frequency search\n",
    "comb_attributes = dict()\n",
    "comb_count_attributes = 0\n",
    "for i in cleaned_comment_data:\n",
    "    comb_count_attributes+=1\n",
    "    for j in final_comb_attributes :\n",
    "        if j[0] in i.lower() and j[1] in i.lower():\n",
    "            if j in comb_attributes:\n",
    "                comb_attributes[j] += 1\n",
    "            else:\n",
    "                comb_attributes[j] = 1\n",
    "comb_attributes"
   ]
  },
  {
   "cell_type": "code",
   "execution_count": 83,
   "metadata": {},
   "outputs": [
    {
     "data": {
      "text/plain": [
       "{('ford', 'price'): 19,\n",
       " ('ford', 'class'): 6,\n",
       " ('ford', 'performance'): 3,\n",
       " ('ford', 'trans'): 4,\n",
       " ('ford', 'wd'): 4,\n",
       " ('bmw', 'price'): 10,\n",
       " ('bmw', 'class'): 6,\n",
       " ('bmw', 'performance'): 2,\n",
       " ('bmw', 'trans'): 2,\n",
       " ('bmw', 'wd'): 2,\n",
       " ('toyota', 'price'): 4,\n",
       " ('toyota', 'class'): 2,\n",
       " ('toyota', 'performance'): 3,\n",
       " ('toyota', 'trans'): 5,\n",
       " ('toyota', 'wd'): 0,\n",
       " ('nissan', 'price'): 12,\n",
       " ('nissan', 'class'): 4,\n",
       " ('nissan', 'performance'): 1,\n",
       " ('nissan', 'trans'): 4,\n",
       " ('nissan', 'wd'): 1,\n",
       " ('audi', 'price'): 5,\n",
       " ('audi', 'class'): 3,\n",
       " ('audi', 'performance'): 0,\n",
       " ('audi', 'trans'): 1,\n",
       " ('audi', 'wd'): 2}"
      ]
     },
     "execution_count": 83,
     "metadata": {},
     "output_type": "execute_result"
    }
   ],
   "source": [
    "final_combination_attributes = {}\n",
    "for i in final_comb_attributes:\n",
    "    if(i in comb_attributes.keys()):\n",
    "        final_combination_attributes[i] = comb_attributes[i]\n",
    "    else:\n",
    "        final_combination_attributes[i] = 0\n",
    "        \n",
    "final_combination_attributes\n"
   ]
  },
  {
   "cell_type": "code",
   "execution_count": 84,
   "metadata": {},
   "outputs": [],
   "source": [
    "l1_attribute = top5_brands"
   ]
  },
  {
   "cell_type": "code",
   "execution_count": 85,
   "metadata": {},
   "outputs": [],
   "source": [
    "l2_attribute = attribute_count\n",
    "sum = 4456"
   ]
  },
  {
   "cell_type": "code",
   "execution_count": 86,
   "metadata": {},
   "outputs": [],
   "source": [
    "l3_attribute = []\n",
    "for i in l1_attribute:\n",
    "    for key, value in l2_attribute.items():\n",
    "        sub_l = [0,0]\n",
    "        l3_attribute.append(sub_l)\n",
    "        sub_l[0] = (i[0],key)\n",
    "        denom = (i[1]/sum) * (value/sum)\n",
    "        sub_l[1] = denom"
   ]
  },
  {
   "cell_type": "code",
   "execution_count": 87,
   "metadata": {},
   "outputs": [],
   "source": [
    "l4_attribute = []\n",
    "for i in l3_attribute:\n",
    "    for key, value in final_combination_attributes.items():\n",
    "        a, b = i[0][0], i[0][1]\n",
    "        pair = (b, a)\n",
    "        if i[0] == key or pair == key:\n",
    "            sub_list = [0,0]\n",
    "            l4_attribute.append(sub_list)\n",
    "            numer = value/sum\n",
    "            lift = numer/i[1]\n",
    "            sub_list[0]=i[0]\n",
    "            sub_list[1]=lift"
   ]
  },
  {
   "cell_type": "code",
   "execution_count": 89,
   "metadata": {},
   "outputs": [],
   "source": [
    "l5_attribute = []\n",
    "for i in l4_attribute:\n",
    "    value = i[1]\n",
    "    l5_attribute.append(value)\n"
   ]
  },
  {
   "cell_type": "code",
   "execution_count": 92,
   "metadata": {},
   "outputs": [],
   "source": [
    "mat_attr = [[ 0 for x in range(5)] for y in range(5)]\n",
    "\n",
    "index = 0\n",
    "for i in range(5):\n",
    "    for n in range(5):\n",
    "            mat_attr[i][n] = l5_attribute[index]\n",
    "            index = index +1"
   ]
  },
  {
   "cell_type": "code",
   "execution_count": 93,
   "metadata": {},
   "outputs": [
    {
     "name": "stdout",
     "output_type": "stream",
     "text": [
      "           price     class  performance     trans        wd\n",
      "ford    0.016715  0.057892     0.110986  0.332339  0.973776\n",
      "bmw     0.019086  0.125597     0.160522  0.360503  1.056300\n",
      "toyota  0.009008  0.049401     0.284123  1.063484  0.000000\n",
      "nissan  0.027577  0.100819     0.096641  0.868151  0.635935\n",
      "audi    0.011730  0.077190     0.000000  0.221559  1.298368\n"
     ]
    }
   ],
   "source": [
    "import pandas as pd\n",
    "df_lift_attr = pd.DataFrame(mat_attr)\n",
    "\n",
    "df_lift_attr.columns = ['price', 'class', 'performance', 'trans', 'wd']\n",
    "df_lift_attr.index = ['ford', 'bmw','toyota','nissan','audi']\n",
    "\n",
    "print (df_lift_attr)"
   ]
  },
  {
   "cell_type": "markdown",
   "metadata": {},
   "source": [
    "# TASK E"
   ]
  },
  {
   "cell_type": "code",
   "execution_count": 94,
   "metadata": {},
   "outputs": [
    {
     "data": {
      "text/plain": [
       "{'cost': 18012,\n",
       " 'mileage': 1178,\n",
       " 'safety': 729,\n",
       " 'reliability': 256,\n",
       " 'reputation': 132}"
      ]
     },
     "execution_count": 94,
     "metadata": {},
     "output_type": "execute_result"
    }
   ],
   "source": [
    "aspiration_count = dict()\n",
    "aspirations =  ['reliability','safety','cost','mileage','reputation']\n",
    "for word in word_list:\n",
    "    for value in aspirations:\n",
    "        if word[0] == value:\n",
    "            aspiration_count.update({word[0] : word[1]})\n",
    "        else:\n",
    "            continue\n",
    "            \n",
    "aspiration_count"
   ]
  },
  {
   "cell_type": "code",
   "execution_count": 98,
   "metadata": {},
   "outputs": [],
   "source": [
    "for item in word_list:\n",
    "    if(item[0]==\"accuracy\" or item[0]=='accurate' or item[0]=='authenticity' or item[0]=='authentic' or item[0]=='quality'\n",
    "        or item[0]=='honesty' or item[0]=='honest' or item[0]=='loyalty' or item[0]=='loyal'\n",
    "        or item[0]=='trust' or item[0]=='trustworthy'  or item[0]=='reliable'):\n",
    "        aspiration_count['reliability'] += 1\n",
    "    elif(item[0]=='safe' or item[0]=='secure' or item[0]=='assurance' or item[0]=='cover' or item[0]=='safeness'):\n",
    "        aspiration_count['safety'] += 1\n",
    "    elif(item[0]=='amount'or item[0]=='expenditure'or item[0]=='rate'or item[0]=='value'or item[0]=='charge'):\n",
    "        aspiration_count['cost'] += 1\n",
    "    elif(item[0]=='miles'or item[0]=='miles/gallon'or item[0]=='distance'or item[0]=='economy'or item[0]=='value' or item[0] == 'prices'):\n",
    "        aspiration_count['mileage'] += 1\n",
    "    elif(item[0]=='status'or item[0]=='stature'or item[0]=='esteem'or item[0]=='prestige'or item[0]=='renown'\n",
    "         or item[0]=='repute'):\n",
    "        aspiration_count['reputation'] += 1"
   ]
  },
  {
   "cell_type": "code",
   "execution_count": 99,
   "metadata": {},
   "outputs": [
    {
     "data": {
      "text/plain": [
       "['ford', 'bmw', 'toyota', 'nissan', 'audi']"
      ]
     },
     "execution_count": 99,
     "metadata": {},
     "output_type": "execute_result"
    }
   ],
   "source": [
    "top5_brands = sortedWordsList[:5]\n",
    "top5_brands\n",
    "\n",
    "top5_brands_name_only = []\n",
    "\n",
    "for i in top5_brands:\n",
    "    top5_brands_name_only.append(i[0])\n",
    "\n",
    "    \n",
    "top5_brands_name_only"
   ]
  },
  {
   "cell_type": "code",
   "execution_count": 100,
   "metadata": {},
   "outputs": [
    {
     "data": {
      "text/plain": [
       "['price', 'class', 'performance', 'trans', 'wd']"
      ]
     },
     "execution_count": 100,
     "metadata": {},
     "output_type": "execute_result"
    }
   ],
   "source": [
    "aspiration_list = []\n",
    "for items in attribute_count:\n",
    "    aspiration_list.append(items)\n",
    "    \n",
    "aspiration_list"
   ]
  },
  {
   "cell_type": "code",
   "execution_count": 102,
   "metadata": {},
   "outputs": [],
   "source": [
    "comb_aspiration = []\n",
    "for i in top5_brands_name_only:\n",
    "    for j in aspiration_list:\n",
    "        if i != j:\n",
    "            sub_l = [0,0]\n",
    "            comb_aspiration.append(sub_l)\n",
    "            sub_l[0] = i\n",
    "            sub_l[1] = j\n",
    "\n",
    "\n",
    "for x in comb_aspiration:\n",
    "    for y in comb_aspiration:\n",
    "        if x[0] == y[1] and x[1] == y[0]:\n",
    "            index = comb_aspiration.index(y)\n",
    "            del comb_aspiration[index]\n",
    "            \n",
    "\n",
    "            "
   ]
  },
  {
   "cell_type": "code",
   "execution_count": 104,
   "metadata": {},
   "outputs": [],
   "source": [
    "final_comb_aspiration = []\n",
    "for i in comb_aspiration:\n",
    "    t = tuple(i)\n",
    "    final_comb_aspiration.append(t)\n",
    "    \n"
   ]
  },
  {
   "cell_type": "code",
   "execution_count": 105,
   "metadata": {},
   "outputs": [],
   "source": [
    "# Run the frequency search\n",
    "aspiration_d = dict()\n",
    "aspiration_c = 0\n",
    "for i in cleaned_comment_data:\n",
    "    aspiration_c+=1\n",
    "    for j in final_comb_aspiration :\n",
    "        if j[0] in i.lower() and j[1] in i.lower():\n",
    "            if j in aspiration_d:\n",
    "                aspiration_d[j] += 1\n",
    "            else:\n",
    "                aspiration_d[j] = 1"
   ]
  },
  {
   "cell_type": "code",
   "execution_count": 106,
   "metadata": {},
   "outputs": [
    {
     "data": {
      "text/plain": [
       "[(('ford', 'price'), 19),\n",
       " (('nissan', 'price'), 12),\n",
       " (('bmw', 'price'), 10),\n",
       " (('bmw', 'class'), 6),\n",
       " (('ford', 'class'), 6),\n",
       " (('audi', 'price'), 5),\n",
       " (('toyota', 'trans'), 5),\n",
       " (('nissan', 'class'), 4),\n",
       " (('toyota', 'price'), 4),\n",
       " (('nissan', 'trans'), 4),\n",
       " (('ford', 'trans'), 4),\n",
       " (('ford', 'wd'), 4),\n",
       " (('audi', 'class'), 3),\n",
       " (('toyota', 'performance'), 3),\n",
       " (('ford', 'performance'), 3),\n",
       " (('toyota', 'class'), 2),\n",
       " (('bmw', 'trans'), 2),\n",
       " (('bmw', 'wd'), 2),\n",
       " (('audi', 'wd'), 2),\n",
       " (('bmw', 'performance'), 2),\n",
       " (('nissan', 'performance'), 1),\n",
       " (('audi', 'trans'), 1),\n",
       " (('nissan', 'wd'), 1)]"
      ]
     },
     "execution_count": 106,
     "metadata": {},
     "output_type": "execute_result"
    }
   ],
   "source": [
    "sorted_aspiration_d = sorted(aspiration_d.items(), key = itemgetter(1), reverse = True)\n",
    "sorted_aspiration_d\n",
    "\n"
   ]
  },
  {
   "cell_type": "code",
   "execution_count": null,
   "metadata": {},
   "outputs": [],
   "source": []
  }
 ],
 "metadata": {
  "kernelspec": {
   "display_name": "Python 3",
   "language": "python",
   "name": "python3"
  },
  "language_info": {
   "codemirror_mode": {
    "name": "ipython",
    "version": 3
   },
   "file_extension": ".py",
   "mimetype": "text/x-python",
   "name": "python",
   "nbconvert_exporter": "python",
   "pygments_lexer": "ipython3",
   "version": "3.6.5"
  }
 },
 "nbformat": 4,
 "nbformat_minor": 2
}
